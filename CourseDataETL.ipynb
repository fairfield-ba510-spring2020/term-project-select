{
 "cells": [
  {
   "cell_type": "markdown",
   "metadata": {},
   "source": [
    "__3. Create a SQLite database called `CourseData.db` in this folder. The database should exactly match your ERD. Populate the database with data from the CSV files.__\n",
    "\n",
    "- CSV files are best imported using the SQLite3 tool we discussed in class. Experiment with it to get the imports right before writing any SQL.\n",
    "- You will likely have to import the CSV file data into tables that you will ultimately drop when the database is completed. To keep track of them all, please the prefix the table name with `import_` to indicate that the table contains raw source data.\n",
    "- Use SQL to create and populate the tables in your ERD. The code will likely look a lot like what we did in class, with lots of JOINs. You should implement FOREIGN KEY constraints (With cascading updates/deletes) as well.\n",
    "- Capture all of your SQL DDL and DML code in a new notebook called `CourseDataETL.ipynb` in this project folder. Use Markdown to annotate your work as you go along. Also, make sure you can re-run your code from scratch to rebuild the database when needed."
   ]
  },
  {
   "cell_type": "markdown",
   "metadata": {},
   "source": [
    "__Import Packages__"
   ]
  },
  {
   "cell_type": "code",
   "execution_count": 1,
   "metadata": {},
   "outputs": [],
   "source": [
    "%load_ext sql\n",
    "import pandas as pd\n",
    "import sqlite3"
   ]
  },
  {
   "cell_type": "code",
   "execution_count": 2,
   "metadata": {},
   "outputs": [],
   "source": [
    "%sql sqlite:///CourseData.db\n",
    "conn = sqlite3.connect('CourseData.db')"
   ]
  },
  {
   "cell_type": "markdown",
   "metadata": {},
   "source": [
    "__Create Tables__"
   ]
  },
  {
   "cell_type": "code",
   "execution_count": 3,
   "metadata": {},
   "outputs": [
    {
     "name": "stdout",
     "output_type": "stream",
     "text": [
      " * sqlite:///CourseData.db\n",
      "Done.\n",
      "Done.\n",
      "Done.\n",
      "Done.\n",
      "Done.\n",
      "Done.\n",
      "Done.\n",
      "Done.\n",
      "Done.\n",
      "Done.\n",
      "Done.\n",
      "Done.\n",
      "Done.\n",
      "Done.\n",
      "7 rows affected.\n"
     ]
    },
    {
     "data": {
      "text/plain": [
       "[]"
      ]
     },
     "execution_count": 3,
     "metadata": {},
     "output_type": "execute_result"
    }
   ],
   "source": [
    "%%sql\n",
    "DROP TABLE IF EXISTS Professor;\n",
    "CREATE TABLE Professor (\n",
    "    ProfessorID INTEGER PRIMARY KEY,\n",
    "    Name TEXT NOT NULL\n",
    ");\n",
    "DROP TABLE IF EXISTS Location;\n",
    "CREATE TABLE Location (\n",
    "    LocationID INTEGER PRIMARY KEY,\n",
    "    Location TEXT NOT NULL\n",
    ");\n",
    "DROP TABLE IF EXISTS Program;\n",
    "CREATE TABLE Program (\n",
    "    ProgramID INTEGER PRIMARY KEY,\n",
    "    ProgramName TEXT NOT NULL,\n",
    "    ProgramCode TEXT NOT NULL\n",
    ");\n",
    "DROP TABLE IF EXISTS CatalogCourse;\n",
    "CREATE TABLE CatalogCourse (\n",
    "    CatalogCourseID INTEGER PRIMARY KEY,\n",
    "    CatalogYear TEXT NOT NULL,\n",
    "    CatalogID TEXT NOT NULL,\n",
    "    ProgramID INTEGER,\n",
    "    CourseTitle TEXT NOT NULL,\n",
    "    Credits REAL,\n",
    "    Prereqs TEXT,\n",
    "    Coreqs TEXT,\n",
    "    Fees TEXT,\n",
    "    Attributes TEXT,\n",
    "    Description TEXT\n",
    ");\n",
    "DROP TABLE IF EXISTS Class;\n",
    "CREATE TABLE Class (\n",
    "    ClassID INTEGER PRIMARY KEY,\n",
    "    CatalogID TEXT NOT NULL,\n",
    "    CatalogCourseID INTEGER,\n",
    "    ProfessorID INTEGER,\n",
    "    Term TEXT NOT NULL,\n",
    "    CRN INTEGER NOT NULL,\n",
    "    Section TEXT NOT NULL,\n",
    "    Credits INTEGER,\n",
    "    Title TEXT NOT NULL,\n",
    "    Timecodes TEXT,\n",
    "    Meetings TEXT,\n",
    "    Capacity INTEGER NOT NULL,\n",
    "    Actual INTEGER NOT NULL,\n",
    "    Remaining INTEGER NOT NULL\n",
    ");\n",
    "DROP TABLE IF EXISTS Meeting;\n",
    "CREATE TABLE Meeting (\n",
    "    MeetingID INTEGER PRIMARY KEY,\n",
    "    ClassID INTEGER NOT NULL,\n",
    "    LocationID INTEGER NOT NULL,\n",
    "    Day TEXT, \n",
    "    StartTime TEXT NOT NULL,\n",
    "    EndTime TEXT NOT NULL\n",
    ");\n",
    "\n",
    "DROP TABLE IF EXISTS TermCatalogYear;\n",
    "CREATE TABLE TermCatalogYear (\n",
    "    CatalogYear TEXT NOT NULL,\n",
    "    Term TEXT NOT NULL\n",
    ");\n",
    "\n",
    "INSERT INTO TermCatalogYear (Term, CatalogYear) VALUES \n",
    "('Fall2017','2017_2018'),('Winter2018','2017_2018'),('Spring2018','2017_2018'),('Summer2018','2017_2018'),('Fall2018','2018_2019'),\n",
    "('Winter2019','2018_2019'),('Spring2019','2018_2019');"
   ]
  },
  {
   "cell_type": "markdown",
   "metadata": {},
   "source": [
    "## Extract from CSV"
   ]
  },
  {
   "cell_type": "code",
   "execution_count": 4,
   "metadata": {},
   "outputs": [],
   "source": [
    "# Class & Meeting CSVs\n",
    "\n",
    "terms = ['Fall2014','Fall2015','Fall2016','Fall2017','Fall2018',\n",
    "         'Spring2015','Spring2016','Spring2017','Spring2018','Spring2019',\n",
    "         'SpringBreak2017',\n",
    "         'Summer2015','Summer2016','Summer2017','Summer2018',\n",
    "         'Winter2015','Winter2016','Winter2017','Winter2018']\n",
    "\n",
    "for term in terms:\n",
    "    filepath = 'SourceData/'+term+'/courses.csv'\n",
    "    data = pd.read_csv(filepath)\n",
    "    data.to_sql('import_courses',conn,if_exists='append',index=False)\n",
    "    \n",
    "    filepath = 'SourceData/'+term+'/course_meetings.csv'\n",
    "    data = pd.read_csv(filepath)\n",
    "    data.to_sql('import_course_meetings',conn,if_exists='append',index=False)"
   ]
  },
  {
   "cell_type": "code",
   "execution_count": 5,
   "metadata": {},
   "outputs": [
    {
     "name": "stdout",
     "output_type": "stream",
     "text": [
      " * sqlite:///CourseData.db\n",
      "Done.\n"
     ]
    },
    {
     "data": {
      "text/html": [
       "<table>\n",
       "    <tr>\n",
       "        <th>RawCount</th>\n",
       "        <th>DistinctCount</th>\n",
       "    </tr>\n",
       "    <tr>\n",
       "        <td>15937</td>\n",
       "        <td>15937</td>\n",
       "    </tr>\n",
       "</table>"
      ],
      "text/plain": [
       "[(15937, 15937)]"
      ]
     },
     "execution_count": 5,
     "metadata": {},
     "output_type": "execute_result"
    }
   ],
   "source": [
    "%%sql\n",
    "SELECT \n",
    "    (SELECT Count(*) FROM import_courses) as 'RawCount',\n",
    "    (SELECT Count(*) FROM (SELECT DISTINCT * FROM import_courses)) as 'DistinctCount'"
   ]
  },
  {
   "cell_type": "code",
   "execution_count": 6,
   "metadata": {},
   "outputs": [
    {
     "name": "stdout",
     "output_type": "stream",
     "text": [
      " * sqlite:///CourseData.db\n",
      "Done.\n"
     ]
    },
    {
     "data": {
      "text/html": [
       "<table>\n",
       "    <tr>\n",
       "        <th>RawCount</th>\n",
       "        <th>DistinctCount</th>\n",
       "    </tr>\n",
       "    <tr>\n",
       "        <td>284907</td>\n",
       "        <td>284847</td>\n",
       "    </tr>\n",
       "</table>"
      ],
      "text/plain": [
       "[(284907, 284847)]"
      ]
     },
     "execution_count": 6,
     "metadata": {},
     "output_type": "execute_result"
    }
   ],
   "source": [
    "%%sql\n",
    "SELECT \n",
    "    (SELECT Count(*) FROM import_course_meetings) as 'RawCount',\n",
    "    (SELECT Count(*) FROM (SELECT DISTINCT * FROM import_course_meetings)) as 'DistinctCount'"
   ]
  },
  {
   "cell_type": "code",
   "execution_count": 7,
   "metadata": {},
   "outputs": [],
   "source": [
    "# Catalog CSV\n",
    "catalog_years = ['2017_2018', '2018_2019']\n",
    "\n",
    "for cat_year in catalog_years:\n",
    "    filepath = 'SourceData/Catalogs/CourseCatalog'+cat_year+'.csv'\n",
    "    data = pd.read_csv(filepath)\n",
    "    data['cat_year'] = cat_year\n",
    "    data.to_sql('import_catalog',conn,if_exists='append',index=False)"
   ]
  },
  {
   "cell_type": "code",
   "execution_count": 8,
   "metadata": {},
   "outputs": [
    {
     "name": "stdout",
     "output_type": "stream",
     "text": [
      " * sqlite:///CourseData.db\n",
      "Done.\n"
     ]
    },
    {
     "data": {
      "text/html": [
       "<table>\n",
       "    <tr>\n",
       "        <th>RawCount</th>\n",
       "        <th>DistinctCount</th>\n",
       "    </tr>\n",
       "    <tr>\n",
       "        <td>4440</td>\n",
       "        <td>4440</td>\n",
       "    </tr>\n",
       "</table>"
      ],
      "text/plain": [
       "[(4440, 4440)]"
      ]
     },
     "execution_count": 8,
     "metadata": {},
     "output_type": "execute_result"
    }
   ],
   "source": [
    "%%sql\n",
    "SELECT \n",
    "    (SELECT Count(*) FROM import_catalog) as 'RawCount',\n",
    "    (SELECT Count(*) FROM (SELECT DISTINCT * FROM import_catalog)) as 'DistinctCount';"
   ]
  },
  {
   "cell_type": "markdown",
   "metadata": {},
   "source": [
    "## Import Data into ERD Tables"
   ]
  },
  {
   "cell_type": "markdown",
   "metadata": {},
   "source": [
    "- Ordered by entity strength. First do the tables with no foreign keys. When creating a table, be sure the tables foreign keys have already been created first."
   ]
  },
  {
   "cell_type": "code",
   "execution_count": 9,
   "metadata": {},
   "outputs": [
    {
     "name": "stdout",
     "output_type": "stream",
     "text": [
      " * sqlite:///CourseData.db\n",
      "0 rows affected.\n",
      "1095 rows affected.\n"
     ]
    },
    {
     "data": {
      "text/plain": [
       "[]"
      ]
     },
     "execution_count": 9,
     "metadata": {},
     "output_type": "execute_result"
    }
   ],
   "source": [
    "%%sql\n",
    "\n",
    "DELETE FROM Professor;\n",
    "\n",
    "INSERT INTO Professor (Name)\n",
    "SELECT DISTINCT primary_instructor\n",
    "FROM import_courses\n",
    "WHERE primary_instructor != 'TBA' AND primary_instructor NOT LIKE '%/%';"
   ]
  },
  {
   "cell_type": "code",
   "execution_count": 10,
   "metadata": {},
   "outputs": [
    {
     "name": "stdout",
     "output_type": "stream",
     "text": [
      " * sqlite:///CourseData.db\n",
      "0 rows affected.\n",
      "207 rows affected.\n"
     ]
    },
    {
     "data": {
      "text/plain": [
       "[]"
      ]
     },
     "execution_count": 10,
     "metadata": {},
     "output_type": "execute_result"
    }
   ],
   "source": [
    "%%sql\n",
    "\n",
    "DELETE FROM Location;\n",
    "\n",
    "INSERT INTO Location (Location)\n",
    "SELECT DISTINCT location\n",
    "FROM import_course_meetings"
   ]
  },
  {
   "cell_type": "code",
   "execution_count": 11,
   "metadata": {},
   "outputs": [
    {
     "name": "stdout",
     "output_type": "stream",
     "text": [
      " * sqlite:///CourseData.db\n",
      "0 rows affected.\n",
      "83 rows affected.\n"
     ]
    },
    {
     "data": {
      "text/plain": [
       "[]"
      ]
     },
     "execution_count": 11,
     "metadata": {},
     "output_type": "execute_result"
    }
   ],
   "source": [
    "%%sql\n",
    "\n",
    "DELETE FROM Program;\n",
    "\n",
    "INSERT INTO Program (ProgramName, ProgramCode)\n",
    "SELECT DISTINCT program_name, program_code\n",
    "FROM import_catalog;"
   ]
  },
  {
   "cell_type": "code",
   "execution_count": 12,
   "metadata": {},
   "outputs": [
    {
     "name": "stdout",
     "output_type": "stream",
     "text": [
      " * sqlite:///CourseData.db\n",
      "0 rows affected.\n",
      "4440 rows affected.\n"
     ]
    },
    {
     "data": {
      "text/plain": [
       "[]"
      ]
     },
     "execution_count": 12,
     "metadata": {},
     "output_type": "execute_result"
    }
   ],
   "source": [
    "%%sql\n",
    "\n",
    "DELETE FROM CatalogCourse;\n",
    "\n",
    "INSERT INTO CatalogCourse (CatalogID, CatalogYear, ProgramID, CourseTitle, Credits, Prereqs, Coreqs, Fees, Attributes, Description)\n",
    "SELECT DISTINCT catalog_id, cat_year, ProgramID, course_title, credits, prereqs, coreqs, fees, attributes, description\n",
    "FROM import_catalog\n",
    "    JOIN Program ON (program_code = ProgramCode)"
   ]
  },
  {
   "cell_type": "markdown",
   "metadata": {},
   "source": [
    "- CatalogYear column was made in the for loop while importing the Catalog CSVs: cat_year"
   ]
  },
  {
   "cell_type": "code",
   "execution_count": 14,
   "metadata": {},
   "outputs": [
    {
     "name": "stdout",
     "output_type": "stream",
     "text": [
      " * sqlite:///CourseData.db\n",
      "0 rows affected.\n",
      "15937 rows affected.\n"
     ]
    },
    {
     "data": {
      "text/plain": [
       "[]"
      ]
     },
     "execution_count": 14,
     "metadata": {},
     "output_type": "execute_result"
    }
   ],
   "source": [
    "%%sql\n",
    "\n",
    "DELETE FROM Class;\n",
    "\n",
    "INSERT INTO Class (CatalogID, CatalogCourseID, ProfessorID, Term, CRN, Section, Credits, Title, Timecodes, Meetings, Capacity, Actual, Remaining)\n",
    "SELECT DISTINCT catalog_id, CatalogCourseID, ProfessorID, term, crn, section, import_courses.credits, title, timecodes, meetings, cap, act, rem\n",
    "FROM import_courses\n",
    "    LEFT JOIN Professor ON (primary_instructor = Professor.Name)\n",
    "    LEFT JOIN TermCatalogYear USING (Term)\n",
    "    LEFT JOIN CatalogCourse ON (catalog_id = CatalogID AND CatalogCourse.CatalogYear = TermCatalogYear.CatalogYear);"
   ]
  },
  {
   "cell_type": "code",
   "execution_count": 15,
   "metadata": {},
   "outputs": [
    {
     "name": "stdout",
     "output_type": "stream",
     "text": [
      " * sqlite:///CourseData.db\n",
      "0 rows affected.\n",
      "284847 rows affected.\n"
     ]
    },
    {
     "data": {
      "text/plain": [
       "[]"
      ]
     },
     "execution_count": 15,
     "metadata": {},
     "output_type": "execute_result"
    }
   ],
   "source": [
    "%%sql\n",
    "\n",
    "DELETE FROM Meeting;\n",
    "\n",
    "INSERT INTO Meeting (ClassID, LocationID, Day, StartTime, EndTime)\n",
    "SELECT DISTINCT Class.ClassID, LocationID, day, `start`,`end`\n",
    "FROM import_course_meetings\n",
    "    JOIN CLASS USING (Term, CRN)\n",
    "    LEFT JOIN Location ON (import_course_meetings.Location = Location.Location);"
   ]
  },
  {
   "cell_type": "markdown",
   "metadata": {},
   "source": [
    "### __4. Integrity Checks__"
   ]
  },
  {
   "cell_type": "markdown",
   "metadata": {},
   "source": [
    "__Domain Integrity__"
   ]
  },
  {
   "cell_type": "markdown",
   "metadata": {},
   "source": [
    "__Entity Integrity:__\n",
    "\n",
    "\n",
    "There should be 4440 Catalog Entries, 15937 Course Offerings, and 284847 Course Meetings\n",
    "SELECT "
   ]
  },
  {
   "cell_type": "code",
   "execution_count": 16,
   "metadata": {},
   "outputs": [
    {
     "name": "stdout",
     "output_type": "stream",
     "text": [
      " * sqlite:///CourseData.db\n",
      "Done.\n"
     ]
    },
    {
     "data": {
      "text/html": [
       "<table>\n",
       "    <tr>\n",
       "        <th>CourseMeetings</th>\n",
       "        <th>CatalogCourses</th>\n",
       "        <th>CourseOfferings</th>\n",
       "    </tr>\n",
       "    <tr>\n",
       "        <td>284847</td>\n",
       "        <td>4440</td>\n",
       "        <td>15937</td>\n",
       "    </tr>\n",
       "</table>"
      ],
      "text/plain": [
       "[(284847, 4440, 15937)]"
      ]
     },
     "execution_count": 16,
     "metadata": {},
     "output_type": "execute_result"
    }
   ],
   "source": [
    "%%sql\n",
    "SELECT\n",
    "    (SELECT Count(*) FROM Meeting) as CourseMeetings,\n",
    "    (SELECT Count(*) FROM CatalogCourse) as CatalogCourses,\n",
    "    (SELECT Count(*) FROM Class) as CourseOfferings;"
   ]
  },
  {
   "cell_type": "markdown",
   "metadata": {},
   "source": [
    "__Relational Integrity__"
   ]
  },
  {
   "cell_type": "code",
   "execution_count": 22,
   "metadata": {},
   "outputs": [
    {
     "name": "stdout",
     "output_type": "stream",
     "text": [
      " * sqlite:///CourseData.db\n",
      "Done.\n"
     ]
    },
    {
     "data": {
      "text/html": [
       "<table>\n",
       "    <tr>\n",
       "        <th>CatalogCourseID</th>\n",
       "        <th>CatalogYear</th>\n",
       "        <th>Term</th>\n",
       "        <th>CRN</th>\n",
       "        <th>Section</th>\n",
       "        <th>CatalogID</th>\n",
       "        <th>Title</th>\n",
       "        <th>Capacity</th>\n",
       "        <th>Actual</th>\n",
       "        <th>Remaining</th>\n",
       "        <th>Year</th>\n",
       "    </tr>\n",
       "    <tr>\n",
       "        <td>None</td>\n",
       "        <td>None</td>\n",
       "        <td>Fall2014</td>\n",
       "        <td>70369</td>\n",
       "        <td>E</td>\n",
       "        <td>IS 0100</td>\n",
       "        <td>Intro to Information Systems</td>\n",
       "        <td>25</td>\n",
       "        <td>26</td>\n",
       "        <td>-1</td>\n",
       "        <td>2014</td>\n",
       "    </tr>\n",
       "    <tr>\n",
       "        <td>None</td>\n",
       "        <td>None</td>\n",
       "        <td>Fall2014</td>\n",
       "        <td>73060</td>\n",
       "        <td>A</td>\n",
       "        <td>IS 0135</td>\n",
       "        <td>Fundamentals of Web Design</td>\n",
       "        <td>25</td>\n",
       "        <td>26</td>\n",
       "        <td>-1</td>\n",
       "        <td>2014</td>\n",
       "    </tr>\n",
       "    <tr>\n",
       "        <td>None</td>\n",
       "        <td>None</td>\n",
       "        <td>Fall2014</td>\n",
       "        <td>73061</td>\n",
       "        <td>A</td>\n",
       "        <td>IS 0320</td>\n",
       "        <td>Systems Design and Implementation</td>\n",
       "        <td>25</td>\n",
       "        <td>16</td>\n",
       "        <td>9</td>\n",
       "        <td>2014</td>\n",
       "    </tr>\n",
       "    <tr>\n",
       "        <td>None</td>\n",
       "        <td>None</td>\n",
       "        <td>Fall2015</td>\n",
       "        <td>75231</td>\n",
       "        <td>E</td>\n",
       "        <td>IS 0100</td>\n",
       "        <td>Intro to Information Systems</td>\n",
       "        <td>29</td>\n",
       "        <td>28</td>\n",
       "        <td>1</td>\n",
       "        <td>2015</td>\n",
       "    </tr>\n",
       "    <tr>\n",
       "        <td>None</td>\n",
       "        <td>None</td>\n",
       "        <td>Fall2015</td>\n",
       "        <td>75246</td>\n",
       "        <td>F</td>\n",
       "        <td>IS 0100</td>\n",
       "        <td>Intro to Information Systems</td>\n",
       "        <td>29</td>\n",
       "        <td>28</td>\n",
       "        <td>1</td>\n",
       "        <td>2015</td>\n",
       "    </tr>\n",
       "    <tr>\n",
       "        <td>None</td>\n",
       "        <td>None</td>\n",
       "        <td>Fall2015</td>\n",
       "        <td>76388</td>\n",
       "        <td>A</td>\n",
       "        <td>IS 0135</td>\n",
       "        <td>Fundamentals of Web Design</td>\n",
       "        <td>25</td>\n",
       "        <td>21</td>\n",
       "        <td>4</td>\n",
       "        <td>2015</td>\n",
       "    </tr>\n",
       "    <tr>\n",
       "        <td>None</td>\n",
       "        <td>None</td>\n",
       "        <td>Fall2015</td>\n",
       "        <td>76389</td>\n",
       "        <td>A</td>\n",
       "        <td>IS 0320</td>\n",
       "        <td>Systems Design and Implementation</td>\n",
       "        <td>25</td>\n",
       "        <td>13</td>\n",
       "        <td>12</td>\n",
       "        <td>2015</td>\n",
       "    </tr>\n",
       "    <tr>\n",
       "        <td>None</td>\n",
       "        <td>None</td>\n",
       "        <td>Spring2016</td>\n",
       "        <td>38780</td>\n",
       "        <td>01</td>\n",
       "        <td>IS 0585</td>\n",
       "        <td>Contemporary Topics: Information Systems and Data</td>\n",
       "        <td>20</td>\n",
       "        <td>15</td>\n",
       "        <td>5</td>\n",
       "        <td>2016</td>\n",
       "    </tr>\n",
       "    <tr>\n",
       "        <td>None</td>\n",
       "        <td>None</td>\n",
       "        <td>Spring2016</td>\n",
       "        <td>37253</td>\n",
       "        <td>B</td>\n",
       "        <td>OM 0101</td>\n",
       "        <td>Operations Management</td>\n",
       "        <td>29</td>\n",
       "        <td>28</td>\n",
       "        <td>1</td>\n",
       "        <td>2016</td>\n",
       "    </tr>\n",
       "    <tr>\n",
       "        <td>None</td>\n",
       "        <td>None</td>\n",
       "        <td>Spring2016</td>\n",
       "        <td>37254</td>\n",
       "        <td>C</td>\n",
       "        <td>OM 0101</td>\n",
       "        <td>Operations Management</td>\n",
       "        <td>29</td>\n",
       "        <td>29</td>\n",
       "        <td>0</td>\n",
       "        <td>2016</td>\n",
       "    </tr>\n",
       "    <tr>\n",
       "        <td>None</td>\n",
       "        <td>None</td>\n",
       "        <td>Fall2016</td>\n",
       "        <td>78100</td>\n",
       "        <td>01</td>\n",
       "        <td>IS 0135</td>\n",
       "        <td>Fundamentals of Web Design</td>\n",
       "        <td>25</td>\n",
       "        <td>15</td>\n",
       "        <td>10</td>\n",
       "        <td>2016</td>\n",
       "    </tr>\n",
       "    <tr>\n",
       "        <td>None</td>\n",
       "        <td>None</td>\n",
       "        <td>Fall2016</td>\n",
       "        <td>77162</td>\n",
       "        <td>01</td>\n",
       "        <td>IS 0240</td>\n",
       "        <td>Systems Analysis and Logical Design</td>\n",
       "        <td>25</td>\n",
       "        <td>23</td>\n",
       "        <td>2</td>\n",
       "        <td>2016</td>\n",
       "    </tr>\n",
       "    <tr>\n",
       "        <td>None</td>\n",
       "        <td>None</td>\n",
       "        <td>Fall2016</td>\n",
       "        <td>79098</td>\n",
       "        <td>01</td>\n",
       "        <td>IS 0585C</td>\n",
       "        <td>Contemporary Topics: Database Systems for Business Analytics</td>\n",
       "        <td>20</td>\n",
       "        <td>15</td>\n",
       "        <td>5</td>\n",
       "        <td>2016</td>\n",
       "    </tr>\n",
       "    <tr>\n",
       "        <td>None</td>\n",
       "        <td>None</td>\n",
       "        <td>Spring2017</td>\n",
       "        <td>31735</td>\n",
       "        <td>01</td>\n",
       "        <td>IS 0240</td>\n",
       "        <td>Systems Analysis and Logical Design</td>\n",
       "        <td>25</td>\n",
       "        <td>25</td>\n",
       "        <td>0</td>\n",
       "        <td>2017</td>\n",
       "    </tr>\n",
       "    <tr>\n",
       "        <td>None</td>\n",
       "        <td>None</td>\n",
       "        <td>Spring2017</td>\n",
       "        <td>32646</td>\n",
       "        <td>01</td>\n",
       "        <td>IS 0320</td>\n",
       "        <td>Systems Design and Implementation</td>\n",
       "        <td>25</td>\n",
       "        <td>7</td>\n",
       "        <td>18</td>\n",
       "        <td>2017</td>\n",
       "    </tr>\n",
       "    <tr>\n",
       "        <td>None</td>\n",
       "        <td>None</td>\n",
       "        <td>Spring2017</td>\n",
       "        <td>33077</td>\n",
       "        <td>CH</td>\n",
       "        <td>IS 0399</td>\n",
       "        <td>Independent Study</td>\n",
       "        <td>0</td>\n",
       "        <td>2</td>\n",
       "        <td>-2</td>\n",
       "        <td>2017</td>\n",
       "    </tr>\n",
       "    <tr>\n",
       "        <td>None</td>\n",
       "        <td>None</td>\n",
       "        <td>Spring2017</td>\n",
       "        <td>31311</td>\n",
       "        <td>06</td>\n",
       "        <td>OM 0101</td>\n",
       "        <td>Operations Management</td>\n",
       "        <td>29</td>\n",
       "        <td>28</td>\n",
       "        <td>1</td>\n",
       "        <td>2017</td>\n",
       "    </tr>\n",
       "    <tr>\n",
       "        <td>922</td>\n",
       "        <td>2017_2018</td>\n",
       "        <td>Fall2017</td>\n",
       "        <td>71153</td>\n",
       "        <td>01</td>\n",
       "        <td>IS 0240</td>\n",
       "        <td>Systems Analysis and Logical Design</td>\n",
       "        <td>25</td>\n",
       "        <td>23</td>\n",
       "        <td>2</td>\n",
       "        <td>2017</td>\n",
       "    </tr>\n",
       "    <tr>\n",
       "        <td>1075</td>\n",
       "        <td>2017_2018</td>\n",
       "        <td>Fall2017</td>\n",
       "        <td>73088</td>\n",
       "        <td>CH</td>\n",
       "        <td>IS 0399</td>\n",
       "        <td>Independent Study</td>\n",
       "        <td>0</td>\n",
       "        <td>1</td>\n",
       "        <td>-1</td>\n",
       "        <td>2017</td>\n",
       "    </tr>\n",
       "    <tr>\n",
       "        <td>1151</td>\n",
       "        <td>2017_2018</td>\n",
       "        <td>Fall2017</td>\n",
       "        <td>72913</td>\n",
       "        <td>01</td>\n",
       "        <td>IS 0505</td>\n",
       "        <td>Python for Business Analytics</td>\n",
       "        <td>20</td>\n",
       "        <td>28</td>\n",
       "        <td>-8</td>\n",
       "        <td>2017</td>\n",
       "    </tr>\n",
       "    <tr>\n",
       "        <td>1152</td>\n",
       "        <td>2017_2018</td>\n",
       "        <td>Fall2017</td>\n",
       "        <td>72914</td>\n",
       "        <td>01</td>\n",
       "        <td>IS 0510</td>\n",
       "        <td>Databases for Business Analytics</td>\n",
       "        <td>20</td>\n",
       "        <td>18</td>\n",
       "        <td>2</td>\n",
       "        <td>2017</td>\n",
       "    </tr>\n",
       "    <tr>\n",
       "        <td>922</td>\n",
       "        <td>2017_2018</td>\n",
       "        <td>Spring2018</td>\n",
       "        <td>34644</td>\n",
       "        <td>01</td>\n",
       "        <td>IS 0240</td>\n",
       "        <td>Systems Analysis and Logical Design</td>\n",
       "        <td>25</td>\n",
       "        <td>22</td>\n",
       "        <td>3</td>\n",
       "        <td>2018</td>\n",
       "    </tr>\n",
       "    <tr>\n",
       "        <td>923</td>\n",
       "        <td>2017_2018</td>\n",
       "        <td>Spring2018</td>\n",
       "        <td>34645</td>\n",
       "        <td>01</td>\n",
       "        <td>IS 0260</td>\n",
       "        <td>Database Systems</td>\n",
       "        <td>25</td>\n",
       "        <td>24</td>\n",
       "        <td>1</td>\n",
       "        <td>2018</td>\n",
       "    </tr>\n",
       "    <tr>\n",
       "        <td>993</td>\n",
       "        <td>2017_2018</td>\n",
       "        <td>Spring2018</td>\n",
       "        <td>35141</td>\n",
       "        <td>01</td>\n",
       "        <td>IS 0320</td>\n",
       "        <td>Systems Design and Implementation</td>\n",
       "        <td>25</td>\n",
       "        <td>20</td>\n",
       "        <td>5</td>\n",
       "        <td>2018</td>\n",
       "    </tr>\n",
       "    <tr>\n",
       "        <td>1075</td>\n",
       "        <td>2017_2018</td>\n",
       "        <td>Spring2018</td>\n",
       "        <td>36043</td>\n",
       "        <td>CH</td>\n",
       "        <td>IS 0399</td>\n",
       "        <td>Independent Study</td>\n",
       "        <td>0</td>\n",
       "        <td>1</td>\n",
       "        <td>-1</td>\n",
       "        <td>2018</td>\n",
       "    </tr>\n",
       "    <tr>\n",
       "        <td>None</td>\n",
       "        <td>None</td>\n",
       "        <td>Fall2018</td>\n",
       "        <td>75942</td>\n",
       "        <td>01</td>\n",
       "        <td>BA 0505</td>\n",
       "        <td>Python for Business Analytics</td>\n",
       "        <td>20</td>\n",
       "        <td>27</td>\n",
       "        <td>-7</td>\n",
       "        <td>2018</td>\n",
       "    </tr>\n",
       "    <tr>\n",
       "        <td>2683</td>\n",
       "        <td>2018_2019</td>\n",
       "        <td>Fall2018</td>\n",
       "        <td>74215</td>\n",
       "        <td>01</td>\n",
       "        <td>OM 0101</td>\n",
       "        <td>Operations Management</td>\n",
       "        <td>25</td>\n",
       "        <td>24</td>\n",
       "        <td>1</td>\n",
       "        <td>2018</td>\n",
       "    </tr>\n",
       "    <tr>\n",
       "        <td>2683</td>\n",
       "        <td>2018_2019</td>\n",
       "        <td>Fall2018</td>\n",
       "        <td>74216</td>\n",
       "        <td>02</td>\n",
       "        <td>OM 0101</td>\n",
       "        <td>Operations Management</td>\n",
       "        <td>25</td>\n",
       "        <td>25</td>\n",
       "        <td>0</td>\n",
       "        <td>2018</td>\n",
       "    </tr>\n",
       "    <tr>\n",
       "        <td>None</td>\n",
       "        <td>None</td>\n",
       "        <td>Spring2019</td>\n",
       "        <td>39006</td>\n",
       "        <td>01</td>\n",
       "        <td>BA 0510</td>\n",
       "        <td>Databases for Business Analytics</td>\n",
       "        <td>32</td>\n",
       "        <td>34</td>\n",
       "        <td>-2</td>\n",
       "        <td>2019</td>\n",
       "    </tr>\n",
       "    <tr>\n",
       "        <td>2683</td>\n",
       "        <td>2018_2019</td>\n",
       "        <td>Spring2019</td>\n",
       "        <td>37200</td>\n",
       "        <td>01</td>\n",
       "        <td>OM 0101</td>\n",
       "        <td>Operations Management</td>\n",
       "        <td>25</td>\n",
       "        <td>26</td>\n",
       "        <td>-1</td>\n",
       "        <td>2019</td>\n",
       "    </tr>\n",
       "    <tr>\n",
       "        <td>2683</td>\n",
       "        <td>2018_2019</td>\n",
       "        <td>Spring2019</td>\n",
       "        <td>37201</td>\n",
       "        <td>02</td>\n",
       "        <td>OM 0101</td>\n",
       "        <td>Operations Management</td>\n",
       "        <td>25</td>\n",
       "        <td>27</td>\n",
       "        <td>-2</td>\n",
       "        <td>2019</td>\n",
       "    </tr>\n",
       "</table>"
      ],
      "text/plain": [
       "[(None, None, 'Fall2014', 70369, 'E', 'IS 0100', 'Intro to Information Systems', 25, 26, -1, '2014'),\n",
       " (None, None, 'Fall2014', 73060, 'A', 'IS 0135', 'Fundamentals of Web Design', 25, 26, -1, '2014'),\n",
       " (None, None, 'Fall2014', 73061, 'A', 'IS 0320', 'Systems Design and Implementation', 25, 16, 9, '2014'),\n",
       " (None, None, 'Fall2015', 75231, 'E', 'IS 0100', 'Intro to Information Systems', 29, 28, 1, '2015'),\n",
       " (None, None, 'Fall2015', 75246, 'F', 'IS 0100', 'Intro to Information Systems', 29, 28, 1, '2015'),\n",
       " (None, None, 'Fall2015', 76388, 'A', 'IS 0135', 'Fundamentals of Web Design', 25, 21, 4, '2015'),\n",
       " (None, None, 'Fall2015', 76389, 'A', 'IS 0320', 'Systems Design and Implementation', 25, 13, 12, '2015'),\n",
       " (None, None, 'Spring2016', 38780, '01', 'IS 0585', 'Contemporary Topics: Information Systems and Data', 20, 15, 5, '2016'),\n",
       " (None, None, 'Spring2016', 37253, 'B', 'OM 0101', 'Operations Management', 29, 28, 1, '2016'),\n",
       " (None, None, 'Spring2016', 37254, 'C', 'OM 0101', 'Operations Management', 29, 29, 0, '2016'),\n",
       " (None, None, 'Fall2016', 78100, '01', 'IS 0135', 'Fundamentals of Web Design', 25, 15, 10, '2016'),\n",
       " (None, None, 'Fall2016', 77162, '01', 'IS 0240', 'Systems Analysis and Logical Design', 25, 23, 2, '2016'),\n",
       " (None, None, 'Fall2016', 79098, '01', 'IS 0585C', 'Contemporary Topics: Database Systems for Business Analytics', 20, 15, 5, '2016'),\n",
       " (None, None, 'Spring2017', 31735, '01', 'IS 0240', 'Systems Analysis and Logical Design', 25, 25, 0, '2017'),\n",
       " (None, None, 'Spring2017', 32646, '01', 'IS 0320', 'Systems Design and Implementation', 25, 7, 18, '2017'),\n",
       " (None, None, 'Spring2017', 33077, 'CH', 'IS 0399', 'Independent Study', 0, 2, -2, '2017'),\n",
       " (None, None, 'Spring2017', 31311, '06', 'OM 0101', 'Operations Management', 29, 28, 1, '2017'),\n",
       " (922, '2017_2018', 'Fall2017', 71153, '01', 'IS 0240', 'Systems Analysis and Logical Design', 25, 23, 2, '2017'),\n",
       " (1075, '2017_2018', 'Fall2017', 73088, 'CH', 'IS 0399', 'Independent Study', 0, 1, -1, '2017'),\n",
       " (1151, '2017_2018', 'Fall2017', 72913, '01', 'IS 0505', 'Python for Business Analytics', 20, 28, -8, '2017'),\n",
       " (1152, '2017_2018', 'Fall2017', 72914, '01', 'IS 0510', 'Databases for Business Analytics', 20, 18, 2, '2017'),\n",
       " (922, '2017_2018', 'Spring2018', 34644, '01', 'IS 0240', 'Systems Analysis and Logical Design', 25, 22, 3, '2018'),\n",
       " (923, '2017_2018', 'Spring2018', 34645, '01', 'IS 0260', 'Database Systems', 25, 24, 1, '2018'),\n",
       " (993, '2017_2018', 'Spring2018', 35141, '01', 'IS 0320', 'Systems Design and Implementation', 25, 20, 5, '2018'),\n",
       " (1075, '2017_2018', 'Spring2018', 36043, 'CH', 'IS 0399', 'Independent Study', 0, 1, -1, '2018'),\n",
       " (None, None, 'Fall2018', 75942, '01', 'BA 0505', 'Python for Business Analytics', 20, 27, -7, '2018'),\n",
       " (2683, '2018_2019', 'Fall2018', 74215, '01', 'OM 0101', 'Operations Management', 25, 24, 1, '2018'),\n",
       " (2683, '2018_2019', 'Fall2018', 74216, '02', 'OM 0101', 'Operations Management', 25, 25, 0, '2018'),\n",
       " (None, None, 'Spring2019', 39006, '01', 'BA 0510', 'Databases for Business Analytics', 32, 34, -2, '2019'),\n",
       " (2683, '2018_2019', 'Spring2019', 37200, '01', 'OM 0101', 'Operations Management', 25, 26, -1, '2019'),\n",
       " (2683, '2018_2019', 'Spring2019', 37201, '02', 'OM 0101', 'Operations Management', 25, 27, -2, '2019')]"
      ]
     },
     "execution_count": 22,
     "metadata": {},
     "output_type": "execute_result"
    }
   ],
   "source": [
    "%%sql\n",
    "SELECT CatalogCourseID, CatalogYear, Term, CRN, Section,Class.CatalogID as CatalogID, Title, Capacity, Actual, Remaining, substr(Term,-4) as Year\n",
    "FROM Class \n",
    "    LEFT JOIN Professor ON (Class.ProfessorID = Professor.ProfessorID)\n",
    "    LEFT JOIN CatalogCourse USING (CatalogCourseID)\n",
    "    LEFT JOIN Program USING (ProgramID)\n",
    "WHERE Name like '%Huntley'\n",
    "ORDER BY Year,Term DESC,CatalogID,Section;"
   ]
  },
  {
   "cell_type": "code",
   "execution_count": 24,
   "metadata": {},
   "outputs": [
    {
     "name": "stdout",
     "output_type": "stream",
     "text": [
      " * sqlite:///CourseData.db\n",
      "Done.\n"
     ]
    },
    {
     "data": {
      "text/html": [
       "<table>\n",
       "    <tr>\n",
       "        <th>Term</th>\n",
       "        <th>ClassID</th>\n",
       "        <th>Count(MeetingID)</th>\n",
       "    </tr>\n",
       "    <tr>\n",
       "        <td>Spring2019</td>\n",
       "        <td>13345</td>\n",
       "        <td>9</td>\n",
       "    </tr>\n",
       "</table>"
      ],
      "text/plain": [
       "[('Spring2019', 13345, 9)]"
      ]
     },
     "execution_count": 24,
     "metadata": {},
     "output_type": "execute_result"
    }
   ],
   "source": [
    "%%sql\n",
    "SELECT Term, ClassID, Count(MeetingID)\n",
    "FROM Class JOIN Meeting USING (ClassID)\n",
    "WHERE CRN=39006 and Term = 'Spring2019'\n",
    "GROUP BY ClassID;"
   ]
  },
  {
   "cell_type": "code",
   "execution_count": 25,
   "metadata": {},
   "outputs": [
    {
     "name": "stdout",
     "output_type": "stream",
     "text": [
      " * sqlite:///CourseData.db\n",
      "Done.\n"
     ]
    },
    {
     "data": {
      "text/html": [
       "<table>\n",
       "    <tr>\n",
       "        <th>ClassID</th>\n",
       "        <th>MeetingID</th>\n",
       "        <th>StartTime</th>\n",
       "    </tr>\n",
       "    <tr>\n",
       "        <td>13345</td>\n",
       "        <td>253416</td>\n",
       "        <td>2019-01-29T18:30:00</td>\n",
       "    </tr>\n",
       "    <tr>\n",
       "        <td>13345</td>\n",
       "        <td>253417</td>\n",
       "        <td>2019-02-05T18:30:00</td>\n",
       "    </tr>\n",
       "    <tr>\n",
       "        <td>13345</td>\n",
       "        <td>253418</td>\n",
       "        <td>2019-02-12T18:30:00</td>\n",
       "    </tr>\n",
       "    <tr>\n",
       "        <td>13345</td>\n",
       "        <td>253419</td>\n",
       "        <td>2019-02-26T18:30:00</td>\n",
       "    </tr>\n",
       "    <tr>\n",
       "        <td>13345</td>\n",
       "        <td>253420</td>\n",
       "        <td>2019-03-05T18:30:00</td>\n",
       "    </tr>\n",
       "    <tr>\n",
       "        <td>13345</td>\n",
       "        <td>253421</td>\n",
       "        <td>2019-03-12T18:30:00</td>\n",
       "    </tr>\n",
       "    <tr>\n",
       "        <td>13345</td>\n",
       "        <td>253422</td>\n",
       "        <td>2019-02-02T09:00:00</td>\n",
       "    </tr>\n",
       "    <tr>\n",
       "        <td>13345</td>\n",
       "        <td>253423</td>\n",
       "        <td>2019-02-16T09:00:00</td>\n",
       "    </tr>\n",
       "    <tr>\n",
       "        <td>13345</td>\n",
       "        <td>253424</td>\n",
       "        <td>2019-03-09T09:00:00</td>\n",
       "    </tr>\n",
       "</table>"
      ],
      "text/plain": [
       "[(13345, 253416, '2019-01-29T18:30:00'),\n",
       " (13345, 253417, '2019-02-05T18:30:00'),\n",
       " (13345, 253418, '2019-02-12T18:30:00'),\n",
       " (13345, 253419, '2019-02-26T18:30:00'),\n",
       " (13345, 253420, '2019-03-05T18:30:00'),\n",
       " (13345, 253421, '2019-03-12T18:30:00'),\n",
       " (13345, 253422, '2019-02-02T09:00:00'),\n",
       " (13345, 253423, '2019-02-16T09:00:00'),\n",
       " (13345, 253424, '2019-03-09T09:00:00')]"
      ]
     },
     "execution_count": 25,
     "metadata": {},
     "output_type": "execute_result"
    }
   ],
   "source": [
    "%%sql\n",
    "SELECT ClassID, MeetingID, StartTime\n",
    "FROM Class JOIN Meeting USING (ClassID)\n",
    "WHERE CRN=39006 AND Term=\"Spring2019\";"
   ]
  },
  {
   "cell_type": "markdown",
   "metadata": {},
   "source": [
    "### __4. Empty Imported Tables:__"
   ]
  },
  {
   "cell_type": "code",
   "execution_count": 26,
   "metadata": {},
   "outputs": [
    {
     "name": "stdout",
     "output_type": "stream",
     "text": [
      " * sqlite:///CourseData.db\n",
      "15937 rows affected.\n",
      "284907 rows affected.\n",
      "4440 rows affected.\n"
     ]
    },
    {
     "data": {
      "text/plain": [
       "[]"
      ]
     },
     "execution_count": 26,
     "metadata": {},
     "output_type": "execute_result"
    }
   ],
   "source": [
    "%%sql\n",
    "DELETE FROM import_courses;\n",
    "DELETE FROM import_course_meetings;\n",
    "DELETE FROM import_catalog;"
   ]
  },
  {
   "cell_type": "code",
   "execution_count": 27,
   "metadata": {},
   "outputs": [
    {
     "name": "stdout",
     "output_type": "stream",
     "text": [
      " * sqlite:///CourseData.db\n",
      "Done.\n",
      "Done.\n",
      "Done.\n"
     ]
    },
    {
     "data": {
      "text/plain": [
       "[]"
      ]
     },
     "execution_count": 27,
     "metadata": {},
     "output_type": "execute_result"
    }
   ],
   "source": [
    "%%sql\n",
    "DROP TABLE import_courses;\n",
    "DROP TABLE import_course_meetings;\n",
    "DROP TABLE import_catalog;"
   ]
  },
  {
   "cell_type": "code",
   "execution_count": 28,
   "metadata": {},
   "outputs": [
    {
     "name": "stdout",
     "output_type": "stream",
     "text": [
      " * sqlite:///CourseData.db\n",
      "Done.\n"
     ]
    },
    {
     "data": {
      "text/plain": [
       "[]"
      ]
     },
     "execution_count": 28,
     "metadata": {},
     "output_type": "execute_result"
    }
   ],
   "source": [
    "%%sql\n",
    "vacuum;"
   ]
  },
  {
   "cell_type": "code",
   "execution_count": null,
   "metadata": {},
   "outputs": [],
   "source": []
  }
 ],
 "metadata": {
  "kernelspec": {
   "display_name": "Python 3",
   "language": "python",
   "name": "python3"
  },
  "language_info": {
   "codemirror_mode": {
    "name": "ipython",
    "version": 3
   },
   "file_extension": ".py",
   "mimetype": "text/x-python",
   "name": "python",
   "nbconvert_exporter": "python",
   "pygments_lexer": "ipython3",
   "version": "3.6.7"
  }
 },
 "nbformat": 4,
 "nbformat_minor": 4
}
