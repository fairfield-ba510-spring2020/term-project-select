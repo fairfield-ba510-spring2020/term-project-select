{
 "cells": [
  {
   "cell_type": "markdown",
   "metadata": {},
   "source": [
    "Scope: What kinds of questions should the DW answer? Be very specific, as this will determine your facts and dimensions\n",
    "Design: Draw an ERD for each fact table in your DW; dimensions can appear on multiple ERDs\n",
    "Implementation: Create the dimension tables first, then the fact tables."
   ]
  }
 ],
 "metadata": {
  "kernelspec": {
   "display_name": "Python 3",
   "language": "python",
   "name": "python3"
  },
  "language_info": {
   "codemirror_mode": {
    "name": "ipython",
    "version": 3
   },
   "file_extension": ".py",
   "mimetype": "text/x-python",
   "name": "python",
   "nbconvert_exporter": "python",
   "pygments_lexer": "ipython3",
   "version": "3.6.7"
  }
 },
 "nbformat": 4,
 "nbformat_minor": 4
}
